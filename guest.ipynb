{
 "cells": [
  {
   "cell_type": "code",
   "execution_count": 4,
   "metadata": {},
   "outputs": [],
   "source": [
    "def findMaxGuest(arr1,arr2,n):\n",
    "    arr1.sort()\n",
    "    arr2.sort()\n",
    "    \n",
    "    guest_in=1\n",
    "    max_guest=1\n",
    "    time=arr1[0]\n",
    "    i=1\n",
    "    j=0\n",
    "    \n",
    "    while(i<n and j<n):\n",
    "        if (arr1[i]<=arr2[j]):\n",
    "            \n",
    "            guest_in= guest_in+1\n",
    "            \n",
    "            if (guest_in >max_guest):\n",
    "                max_guest=guest_in\n",
    "                time=arr1[i]\n",
    "                \n",
    "            \n",
    "            i=i+1\n",
    "        else:\n",
    "            guest_in= guest_in-1\n",
    "            j=j+1\n",
    "            \n",
    "            \n",
    "    print(\"max number of guest= \", max_guest, \"at time\", time)"
   ]
  },
  {
   "cell_type": "code",
   "execution_count": 5,
   "metadata": {},
   "outputs": [
    {
     "name": "stdout",
     "output_type": "stream",
     "text": [
      "max number of guest=  1 at time 2\n"
     ]
    }
   ],
   "source": [
    "arr1=[3,5,2,8,9]\n",
    "arr2=[2,1,3,4,3]\n",
    "\n",
    "n= len(arr1)\n",
    "\n",
    "findMaxGuest(arr1,arr2,n)"
   ]
  },
  {
   "cell_type": "code",
   "execution_count": null,
   "metadata": {},
   "outputs": [],
   "source": []
  }
 ],
 "metadata": {
  "kernelspec": {
   "display_name": "Python 3",
   "language": "python",
   "name": "python3"
  },
  "language_info": {
   "codemirror_mode": {
    "name": "ipython",
    "version": 3
   },
   "file_extension": ".py",
   "mimetype": "text/x-python",
   "name": "python",
   "nbconvert_exporter": "python",
   "pygments_lexer": "ipython3",
   "version": "3.8.5"
  }
 },
 "nbformat": 4,
 "nbformat_minor": 4
}
